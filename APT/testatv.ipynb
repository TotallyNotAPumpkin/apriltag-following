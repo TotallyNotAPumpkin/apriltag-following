{
 "cells": [
  {
   "cell_type": "code",
   "execution_count": 44,
   "metadata": {},
   "outputs": [],
   "source": [
    "from dt_apriltags import Detector\n",
    "import cv2\n",
    "import numpy as np\n",
    "import matplotlib.pyplot as plt\n"
   ]
  },
  {
   "cell_type": "code",
   "execution_count": 7,
   "metadata": {},
   "outputs": [],
   "source": [
    "capture = cv2.VideoCapture('AprilTagTest.mkv')"
   ]
  },
  {
   "cell_type": "code",
   "execution_count": 23,
   "metadata": {},
   "outputs": [],
   "source": [
    "cameraMatrix = np.array([ 1060.71, 0, 960, 0, 1060.71, 540, 0, 0, 1]).reshape((3,3))\n",
    "\n",
    "camera_params = ( cameraMatrix[0,0], cameraMatrix[1,1], cameraMatrix[0,2], cameraMatrix[1,2] )"
   ]
  },
  {
   "cell_type": "code",
   "execution_count": 38,
   "metadata": {},
   "outputs": [],
   "source": [
    "frameNr = 0\n",
    " \n",
    "while (True):\n",
    " \n",
    "    success, frame = capture.read()\n",
    " \n",
    "    if success:\n",
    "        cv2.imwrite(f'/home/albertle/cv-intro/frames/frame_{frameNr}.jpg', frame)\n",
    " \n",
    "    else:\n",
    "        break\n",
    " \n",
    "    frameNr = frameNr+1\n",
    " \n",
    "capture.release()"
   ]
  },
  {
   "cell_type": "code",
   "execution_count": 40,
   "metadata": {},
   "outputs": [],
   "source": [
    "x = 0\n",
    "img = (f'frames/frame_{x}.jpg')\n"
   ]
  },
  {
   "cell_type": "code",
   "execution_count": 45,
   "metadata": {},
   "outputs": [
    {
     "ename": "AttributeError",
     "evalue": "'str' object has no attribute 'shape'",
     "output_type": "error",
     "traceback": [
      "\u001b[0;31m---------------------------------------------------------------------------\u001b[0m",
      "\u001b[0;31mAttributeError\u001b[0m                            Traceback (most recent call last)",
      "Cell \u001b[0;32mIn[45], line 10\u001b[0m\n\u001b[1;32m      1\u001b[0m tag_size \u001b[39m=\u001b[39m \u001b[39m0.1\u001b[39m\n\u001b[1;32m      2\u001b[0m at_detector \u001b[39m=\u001b[39m Detector(families\u001b[39m=\u001b[39m\u001b[39m'\u001b[39m\u001b[39mtag36h11\u001b[39m\u001b[39m'\u001b[39m,\n\u001b[1;32m      3\u001b[0m                     nthreads\u001b[39m=\u001b[39m\u001b[39m1\u001b[39m,\n\u001b[1;32m      4\u001b[0m                     quad_decimate\u001b[39m=\u001b[39m\u001b[39m1.0\u001b[39m,\n\u001b[0;32m   (...)\u001b[0m\n\u001b[1;32m      7\u001b[0m                     decode_sharpening\u001b[39m=\u001b[39m\u001b[39m0.25\u001b[39m,\n\u001b[1;32m      8\u001b[0m                     debug\u001b[39m=\u001b[39m\u001b[39m0\u001b[39m)\n\u001b[0;32m---> 10\u001b[0m tags \u001b[39m=\u001b[39m at_detector\u001b[39m.\u001b[39;49mdetect(img, \u001b[39mTrue\u001b[39;49;00m, camera_params, tag_size)\n\u001b[1;32m     12\u001b[0m color_img \u001b[39m=\u001b[39m cv2\u001b[39m.\u001b[39mcvtColor(img, cv2\u001b[39m.\u001b[39mCOLOR_GRAY2RGB)\n\u001b[1;32m     14\u001b[0m \u001b[39mfor\u001b[39;00m tag \u001b[39min\u001b[39;00m tags:\n",
      "File \u001b[0;32m~/.virtualenvs/bluecv/lib/python3.9/site-packages/dt_apriltags/apriltags.py:355\u001b[0m, in \u001b[0;36mDetector.detect\u001b[0;34m(self, img, estimate_tag_pose, camera_params, tag_size)\u001b[0m\n\u001b[1;32m    350\u001b[0m \u001b[39mdef\u001b[39;00m \u001b[39mdetect\u001b[39m(\u001b[39mself\u001b[39m, img, estimate_tag_pose\u001b[39m=\u001b[39m\u001b[39mFalse\u001b[39;00m, camera_params\u001b[39m=\u001b[39m\u001b[39mNone\u001b[39;00m, tag_size\u001b[39m=\u001b[39m\u001b[39mNone\u001b[39;00m):\n\u001b[1;32m    351\u001b[0m \u001b[39m    \u001b[39m\u001b[39m\"\"\"\u001b[39;00m\n\u001b[1;32m    352\u001b[0m \u001b[39m    Run detectons on the provided image. The image must be a grayscale\u001b[39;00m\n\u001b[1;32m    353\u001b[0m \u001b[39m    image of type numpy.uint8.\u001b[39;00m\n\u001b[1;32m    354\u001b[0m \u001b[39m    \"\"\"\u001b[39;00m\n\u001b[0;32m--> 355\u001b[0m     \u001b[39massert\u001b[39;00m \u001b[39mlen\u001b[39m(img\u001b[39m.\u001b[39;49mshape) \u001b[39m==\u001b[39m \u001b[39m2\u001b[39m\n\u001b[1;32m    356\u001b[0m     \u001b[39massert\u001b[39;00m img\u001b[39m.\u001b[39mdtype \u001b[39m==\u001b[39m numpy\u001b[39m.\u001b[39muint8\n\u001b[1;32m    358\u001b[0m     c_img \u001b[39m=\u001b[39m \u001b[39mself\u001b[39m\u001b[39m.\u001b[39m_convert_image(img)\n",
      "\u001b[0;31mAttributeError\u001b[0m: 'str' object has no attribute 'shape'"
     ]
    }
   ],
   "source": [
    "tag_size = 0.1\n",
    "at_detector = Detector(families='tag36h11',\n",
    "                    nthreads=1,\n",
    "                    quad_decimate=1.0,\n",
    "                    quad_sigma=0.0,\n",
    "                    refine_edges=1,\n",
    "                    decode_sharpening=0.25,\n",
    "                    debug=0)\n",
    "\n",
    "tags = at_detector.detect(img, True, camera_params, tag_size)\n",
    "\n",
    "color_img = cv2.cvtColor(img, cv2.COLOR_GRAY2RGB)\n",
    "\n",
    "for tag in tags:\n",
    "    for idx in range(len(tag.corners)):\n",
    "        cv2.line(color_img, tuple(tag.corners[idx - 1, :].astype(int)), tuple(tag.corners[idx, :].astype(int)), (0, 255, 0))\n",
    "\n",
    "    cv2.putText(color_img, str(tag.tag_id),\n",
    "                org=(tag.corners[0, 0].astype(int) + 10, tag.corners[0, 1].astype(int) + 10),\n",
    "                fontFace=cv2.FONT_HERSHEY_SIMPLEX,\n",
    "                fontScale=0.8,\n",
    "                color=(0, 0, 255))\n",
    "\n",
    "\n",
    "plt.imshow(color_img)\n"
   ]
  }
 ],
 "metadata": {
  "kernelspec": {
   "display_name": "bluecv",
   "language": "python",
   "name": "python3"
  },
  "language_info": {
   "codemirror_mode": {
    "name": "ipython",
    "version": 3
   },
   "file_extension": ".py",
   "mimetype": "text/x-python",
   "name": "python",
   "nbconvert_exporter": "python",
   "pygments_lexer": "ipython3",
   "version": "3.9.2"
  },
  "orig_nbformat": 4
 },
 "nbformat": 4,
 "nbformat_minor": 2
}
