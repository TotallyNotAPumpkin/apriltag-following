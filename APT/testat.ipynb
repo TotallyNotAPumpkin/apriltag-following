{
 "cells": [
  {
   "cell_type": "code",
   "execution_count": 1,
   "metadata": {},
   "outputs": [],
   "source": [
    "from dt_apriltags import Detector\n",
    "import cv2\n",
    "import numpy as np\n",
    "import matplotlib.pyplot as plt"
   ]
  },
  {
   "cell_type": "code",
   "execution_count": 2,
   "metadata": {},
   "outputs": [],
   "source": [
    "video = cv2.VideoCapture('AprilTagTest.mkv')"
   ]
  },
  {
   "cell_type": "code",
   "execution_count": 3,
   "metadata": {},
   "outputs": [],
   "source": [
    "ret, frame = video.read()\n",
    "i = 0\n",
    "cameraMatrix = np.array([ 1060.71, 0, 960, 0, 1060.71, 540, 0, 0, 1]).reshape((3,3))\n",
    "camera_params = ( cameraMatrix[0,0], cameraMatrix[1,1], cameraMatrix[0,2], cameraMatrix[1,2] )"
   ]
  },
  {
   "cell_type": "code",
   "execution_count": 4,
   "metadata": {},
   "outputs": [],
   "source": [
    "\n",
    "at_detector = Detector(families='tag36h11',\n",
    "                    nthreads=1,\n",
    "                    quad_decimate=1.0,\n",
    "                    quad_sigma=0.0,\n",
    "                    refine_edges=1,\n",
    "                    decode_sharpening=0.25,\n",
    "                    debug=0)\n",
    "l = []\n"
   ]
  },
  {
   "cell_type": "code",
   "execution_count": 5,
   "metadata": {},
   "outputs": [],
   "source": [
    "\n",
    "while ret:\n",
    "    i += 1\n",
    "    if(i%10 == 0 and i < 90):\n",
    "        img = cv2.cvtColor(frame, cv2.COLOR_BGR2GRAY)\n",
    "        color_img = cv2.cvtColor(img, cv2.COLOR_GRAY2RGB)\n",
    "        tags = at_detector.detect(img, True, camera_params, tag_size = 0.1)\n",
    "        for tag in tags:\n",
    "            for idx in range(len(tag.corners)):\n",
    "                cv2.line(color_img, tuple(tag.corners[idx - 1, :].astype(int)), tuple(tag.corners[idx, :].astype(int)), (0, 255, 0))\n",
    "                cv2.circle(color_img, (int(tag.center[0].item()),int(tag.center[1].item())), 50, (0, 0, 255), 2)\n",
    "            l.append((tag.pose_t, tag.pose_R))\n",
    "        #output_video.write(processed_frame)\n",
    "    ret, frame = video.read()\n"
   ]
  },
  {
   "cell_type": "code",
   "execution_count": 7,
   "metadata": {},
   "outputs": [
    {
     "name": "stdout",
     "output_type": "stream",
     "text": [
      "[(array([[ 0.06780324],\n",
      "       [-0.11046711],\n",
      "       [ 0.53497296]]), array([[-0.04622894, -0.99748013,  0.0538171 ],\n",
      "       [ 0.99535829, -0.04144437,  0.08685755],\n",
      "       [-0.08440826,  0.05758263,  0.99476605]])), (array([[ 0.08865171],\n",
      "       [-0.09929118],\n",
      "       [ 0.52188091]]), array([[-0.01871812, -0.99972043,  0.0144464 ],\n",
      "       [ 0.99641485, -0.01746002,  0.0827804 ],\n",
      "       [-0.08250503,  0.0159441 ,  0.9964631 ]])), (array([[ 0.22210339],\n",
      "       [-0.06986835],\n",
      "       [ 0.48217692]]), array([[ 0.23043951, -0.79939043,  0.55486266],\n",
      "       [ 0.9719735 ,  0.16182319, -0.17053084],\n",
      "       [ 0.04653108,  0.57860884,  0.81427677]])), (array([[ 0.21924265],\n",
      "       [-0.06942671],\n",
      "       [ 0.46900003]]), array([[ 0.16306984, -0.61534516,  0.77120591],\n",
      "       [ 0.97853633,  0.20069588, -0.04677418],\n",
      "       [-0.12599558,  0.76228046,  0.63486504]])), (array([[ 0.21899094],\n",
      "       [-0.06895287],\n",
      "       [ 0.44899587]]), array([[ 0.1551998 , -0.40585423,  0.90066385],\n",
      "       [ 0.96933775,  0.23839251, -0.05960982],\n",
      "       [-0.19051862,  0.8822989 ,  0.4304083 ]])), (array([[ 0.21874424],\n",
      "       [-0.06704518],\n",
      "       [ 0.43838931]]), array([[ 0.17135688, -0.33616125,  0.92608446],\n",
      "       [ 0.96566713,  0.24359968, -0.09025628],\n",
      "       [-0.19525321,  0.90975536,  0.36636235]])), (array([[ 0.20544219],\n",
      "       [-0.06476199],\n",
      "       [ 0.47973906]]), array([[ 0.22123474, -0.73347427,  0.64270575],\n",
      "       [ 0.96906861,  0.09143497, -0.22922845],\n",
      "       [ 0.10936739,  0.67353926,  0.73101548]]))]\n"
     ]
    }
   ],
   "source": [
    "print(l)"
   ]
  }
 ],
 "metadata": {
  "kernelspec": {
   "display_name": "bluecv",
   "language": "python",
   "name": "python3"
  },
  "language_info": {
   "codemirror_mode": {
    "name": "ipython",
    "version": 3
   },
   "file_extension": ".py",
   "mimetype": "text/x-python",
   "name": "python",
   "nbconvert_exporter": "python",
   "pygments_lexer": "ipython3",
   "version": "3.9.2"
  },
  "orig_nbformat": 4
 },
 "nbformat": 4,
 "nbformat_minor": 2
}
